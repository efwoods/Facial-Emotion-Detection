{
  "cells": [
    {
      "cell_type": "markdown",
      "metadata": {
        "id": "view-in-github",
        "colab_type": "text"
      },
      "source": [
        "<a href=\"https://colab.research.google.com/github/efwoods/FacialEmotionDetection/blob/main/Evan_Woods_Notebook_Facial_Emotion_Detection_Final_Submission.ipynb\" target=\"_parent\"><img src=\"https://colab.research.google.com/assets/colab-badge.svg\" alt=\"Open In Colab\"/></a>"
      ]
    },
    {
      "cell_type": "markdown",
      "metadata": {
        "id": "hWQC8iCE2_-o"
      },
      "source": [
        "# **Final Submission**"
      ]
    },
    {
      "cell_type": "markdown",
      "metadata": {
        "id": "DYdEI31whyE-"
      },
      "source": [
        "We have built two Convolutional Neural Network architectures in Milestone 1. Here, we will further try to achieve better performance by increasing the number of parameters/weights. Therefore, we will start this Milestone with three popular Transfer Learning architectures, namely, VGG16, ResNet v2, and Efficient Net. Please feel free to explore other pre-trained models as well. Link to Keras documentation for pre-trained models - https://keras.io/api/applications/\n",
        "\n",
        "**Note:** We will mount our drive and import our dataset once again for Milestone 2."
      ]
    },
    {
      "cell_type": "markdown",
      "metadata": {
        "id": "HDM89XHyCxrA"
      },
      "source": [
        "## **Mounting the Drive**\n",
        "\n",
        "**NOTE:**  Please use Google Colab from your browser for this notebook. **Google.colab is not a library that can be downloaded locally on your device.**"
      ]
    },
    {
      "cell_type": "code",
      "execution_count": null,
      "metadata": {
        "colab": {
          "base_uri": "https://localhost:8080/"
        },
        "id": "JQi_degJC3dm",
        "outputId": "503def31-c38e-46e0-d547-7d1cbebaca75"
      },
      "outputs": [
        {
          "output_type": "stream",
          "name": "stdout",
          "text": [
            "Drive already mounted at /content/drive; to attempt to forcibly remount, call drive.mount(\"/content/drive\", force_remount=True).\n"
          ]
        }
      ],
      "source": [
        "# Mounting the drive\n",
        "from google.colab import drive\n",
        "drive.mount('/content/drive')"
      ]
    },
    {
      "cell_type": "markdown",
      "metadata": {
        "id": "UC8-yLUUCcWh"
      },
      "source": [
        "## **Importing the Libraries**"
      ]
    },
    {
      "cell_type": "code",
      "execution_count": null,
      "metadata": {
        "id": "30fd2144"
      },
      "outputs": [],
      "source": [
        "import zipfile\n",
        "import matplotlib.pyplot as plt\n",
        "import numpy as np\n",
        "import pandas as pd\n",
        "import seaborn as sns\n",
        "import os\n",
        "import pickle\n",
        "\n",
        "# Importing Deep Learning Libraries\n",
        "import tensorflow as tf\n",
        "from tensorflow import keras\n",
        "from tensorflow.keras.preprocessing.image import load_img, img_to_array\n",
        "from tensorflow.keras.preprocessing.image import ImageDataGenerator\n",
        "from tensorflow.keras.layers import Dense, Input, Dropout, GlobalAveragePooling2D, Flatten, Conv2D, BatchNormalization, Activation, MaxPooling2D, LeakyReLU\n",
        "from tensorflow.keras.models import Model, Sequential\n",
        "from tensorflow.keras.optimizers import Adam, SGD, RMSprop"
      ]
    },
    {
      "cell_type": "markdown",
      "metadata": {
        "id": "nCqJk2XpCnJi"
      },
      "source": [
        "### **Let us load the data**"
      ]
    },
    {
      "cell_type": "code",
      "source": [
        "# Save and Load models and model fit history (template code)\n",
        "\n",
        "model_file_name = '/efficientNetModel_v_0_1.h5'\n",
        "filepath = '/content/drive/MyDrive/'\n",
        "\n",
        "# Save the model\n",
        "def save_model_and_history(model, model_file_name, history, model_history_name):\n",
        "  \n",
        "  # Save the model\n",
        "  filepath = '/content/drive/MyDrive/'\n",
        "  model_file_path = filepath + model_file_name + '.h5'\n",
        "  tf.keras.Model.save(model,model_file_path)\n",
        "\n",
        "  # Save the model history for plotting\n",
        "  full_filepath = filepath + model_history_name + '.pkl'\n",
        "  with open(full_filepath, 'wb') as f:\n",
        "    pickle.dump(history.history, f)\n",
        "  f.close()\n",
        "\n",
        "  #\n",
        "  print(\"Model history: \",full_filepath)\n",
        "  print(\"Model: \", model_file_path)\n",
        "\n",
        "# Load the model and history\n",
        "\n",
        "def load_model_and_history(model_file_name, model_history_name):\n",
        "\n",
        "  # Load the model\n",
        "  filepath = '/content/drive/MyDrive/'\n",
        "  model_file_path = filepath + model_file_name + '.h5'\n",
        "  x = tf.keras.models.load_model(model_file_path)\n",
        "\n",
        "# Load the history from a file\n",
        "  full_filepath = filepath + model_history_name + '.pkl'\n",
        "  with open(full_filepath, 'rb') as f:\n",
        "    history_dict = pickle.load(f)\n",
        "  f.close()\n",
        "  \n",
        "  return x, history_dict "
      ],
      "metadata": {
        "id": "VIc2iGBVpP19"
      },
      "execution_count": null,
      "outputs": []
    },
    {
      "cell_type": "markdown",
      "metadata": {
        "id": "_syvBdMlDTsr"
      },
      "source": [
        "**Note:** \n",
        "- You must download the dataset from the link provided on Olympus and upload the same on your Google drive before executing the code in the next cell.\n",
        "- In case of any error, please make sure that the path of the file is correct as the path may be different for you."
      ]
    },
    {
      "cell_type": "code",
      "execution_count": null,
      "metadata": {
        "id": "sMfr4tK04C0o"
      },
      "outputs": [],
      "source": [
        "# Storing the path of the data file from the Google drive\n",
        "path = '/content/drive/MyDrive/Facial_emotion_images.zip'\n",
        "\n",
        "# The data is provided as a zip file so we need to extract the files from the zip file\n",
        "with zipfile.ZipFile(path, 'r') as zip_ref:\n",
        "    zip_ref.extractall()"
      ]
    },
    {
      "cell_type": "code",
      "execution_count": null,
      "metadata": {
        "id": "4e89d1c7"
      },
      "outputs": [],
      "source": [
        "picture_size = 48\n",
        "folder_path = \"Facial_emotion_images/\""
      ]
    },
    {
      "cell_type": "markdown",
      "metadata": {
        "id": "boQi7epI3Lsu"
      },
      "source": [
        "## **Transfer Learning Architectures**\n",
        "\n",
        "In this section, we will create several Transfer Learning architectures. For the pre-trained models, we will select three popular architectures namely, VGG16, ResNet v2, and Efficient Net. The difference between these architectures and the previous architectures is that these will require 3 input channels while the earlier ones worked on 'grayscale' images. Therefore, we need to create new DataLoaders."
      ]
    },
    {
      "cell_type": "markdown",
      "metadata": {
        "id": "J7NKTPgdEsgt"
      },
      "source": [
        "### **Creating our Data Loaders for Transfer Learning Architectures**\n",
        "\n",
        "In this section, we are creating data loaders that we will use as inputs to our Neural Network. Unlike in Milestone 1, we will have to go with color_mode = 'rgb' as this is the required format for the transfer learning architectures."
      ]
    },
    {
      "cell_type": "code",
      "execution_count": null,
      "metadata": {
        "id": "d97fee2d",
        "colab": {
          "base_uri": "https://localhost:8080/"
        },
        "outputId": "89ff81ae-943f-4da3-d6c3-f9f492a2331d"
      },
      "outputs": [
        {
          "output_type": "stream",
          "name": "stdout",
          "text": [
            "Found 15085 images belonging to 4 classes.\n",
            "Found 4970 images belonging to 4 classes.\n",
            "Found 127 images belonging to 4 classes.\n"
          ]
        }
      ],
      "source": [
        "batch_size  = 32\n",
        "img_size = 48\n",
        "\n",
        "datagen_train = ImageDataGenerator(horizontal_flip = True,\n",
        "                                  rotation_range=15,\n",
        "                                  zoom_range=0.15,\n",
        "                                  zca_whitening=False,\n",
        "                                  brightness_range = (0., 2.),\n",
        "                                  rescale = 1./255,\n",
        "                                  shear_range = 0.3)\n",
        "\n",
        "train_set = datagen_train.flow_from_directory(folder_path + \"train\",\n",
        "                                            target_size = (img_size, img_size),\n",
        "                                            color_mode = 'rgb',\n",
        "                                            batch_size = batch_size,\n",
        "                                            class_mode = 'categorical',\n",
        "                                            classes = ['happy', 'sad', 'neutral', 'surprise'],\n",
        "                                            shuffle = True)\n",
        "\n",
        "datagen_validation = ImageDataGenerator(horizontal_flip = True,\n",
        "                                  rotation_range=15,\n",
        "                                  zoom_range=0.15,\n",
        "                                  zca_whitening=False,\n",
        "                                  brightness_range = (0., 2.),\n",
        "                                  rescale = 1./255,\n",
        "                                  shear_range = 0.3)\n",
        "\n",
        "validation_set = datagen_train.flow_from_directory(folder_path + \"validation\",\n",
        "                                              target_size = (img_size, img_size),\n",
        "                                              color_mode = 'rgb',\n",
        "                                              batch_size = batch_size,\n",
        "                                              class_mode = 'categorical',\n",
        "                                              classes = ['happy', 'sad', 'neutral', 'surprise'],\n",
        "                                              shuffle = True)\n",
        "\n",
        "datagen_test = ImageDataGenerator(horizontal_flip = True,\n",
        "                                  rotation_range=15,\n",
        "                                  zoom_range=0.15,\n",
        "                                  zca_whitening=False,\n",
        "                                  brightness_range = (0., 2.),\n",
        "                                  rescale = 1./255,\n",
        "                                  shear_range = 0.3)\n",
        "\n",
        "test_set = datagen_train.flow_from_directory(folder_path + \"test\",\n",
        "                                              target_size = (img_size, img_size),\n",
        "                                              color_mode = 'rgb',\n",
        "                                              batch_size = batch_size,\n",
        "                                              class_mode = 'categorical',\n",
        "                                              classes = ['happy', 'sad', 'neutral', 'surprise'],\n",
        "                                              shuffle = True)"
      ]
    },
    {
      "cell_type": "markdown",
      "metadata": {
        "id": "vaUYQdkf7pDG"
      },
      "source": [
        "## **VGG16 Model**"
      ]
    },
    {
      "cell_type": "code",
      "source": [
        "!nvidia-smi"
      ],
      "metadata": {
        "id": "C7jwsPInNJva",
        "colab": {
          "base_uri": "https://localhost:8080/"
        },
        "outputId": "2b022a44-bc0f-4e7c-8290-a265a2b492b6"
      },
      "execution_count": null,
      "outputs": [
        {
          "output_type": "stream",
          "name": "stdout",
          "text": [
            "NVIDIA-SMI has failed because it couldn't communicate with the NVIDIA driver. Make sure that the latest NVIDIA driver is installed and running.\n",
            "\n"
          ]
        }
      ]
    },
    {
      "cell_type": "code",
      "source": [
        "!cat /proc/cpuinfo\n",
        "!cat /proc/meminfo\n"
      ],
      "metadata": {
        "id": "WJ1Tq43tMx3e"
      },
      "execution_count": null,
      "outputs": []
    },
    {
      "cell_type": "markdown",
      "metadata": {
        "id": "ThCSNrWC4HW0"
      },
      "source": [
        "### **Importing the VGG16 Architecture**"
      ]
    },
    {
      "cell_type": "code",
      "execution_count": null,
      "metadata": {
        "id": "7c83c83e",
        "colab": {
          "base_uri": "https://localhost:8080/"
        },
        "outputId": "269686aa-2d68-4b94-b9fc-fca69f3106af"
      },
      "outputs": [
        {
          "output_type": "stream",
          "name": "stdout",
          "text": [
            "Downloading data from https://storage.googleapis.com/tensorflow/keras-applications/vgg16/vgg16_weights_tf_dim_ordering_tf_kernels_notop.h5\n",
            "58889256/58889256 [==============================] - 0s 0us/step\n",
            "Model: \"vgg16\"\n",
            "_________________________________________________________________\n",
            " Layer (type)                Output Shape              Param #   \n",
            "=================================================================\n",
            " input_1 (InputLayer)        [(None, 48, 48, 3)]       0         \n",
            "                                                                 \n",
            " block1_conv1 (Conv2D)       (None, 48, 48, 64)        1792      \n",
            "                                                                 \n",
            " block1_conv2 (Conv2D)       (None, 48, 48, 64)        36928     \n",
            "                                                                 \n",
            " block1_pool (MaxPooling2D)  (None, 24, 24, 64)        0         \n",
            "                                                                 \n",
            " block2_conv1 (Conv2D)       (None, 24, 24, 128)       73856     \n",
            "                                                                 \n",
            " block2_conv2 (Conv2D)       (None, 24, 24, 128)       147584    \n",
            "                                                                 \n",
            " block2_pool (MaxPooling2D)  (None, 12, 12, 128)       0         \n",
            "                                                                 \n",
            " block3_conv1 (Conv2D)       (None, 12, 12, 256)       295168    \n",
            "                                                                 \n",
            " block3_conv2 (Conv2D)       (None, 12, 12, 256)       590080    \n",
            "                                                                 \n",
            " block3_conv3 (Conv2D)       (None, 12, 12, 256)       590080    \n",
            "                                                                 \n",
            " block3_pool (MaxPooling2D)  (None, 6, 6, 256)         0         \n",
            "                                                                 \n",
            " block4_conv1 (Conv2D)       (None, 6, 6, 512)         1180160   \n",
            "                                                                 \n",
            " block4_conv2 (Conv2D)       (None, 6, 6, 512)         2359808   \n",
            "                                                                 \n",
            " block4_conv3 (Conv2D)       (None, 6, 6, 512)         2359808   \n",
            "                                                                 \n",
            " block4_pool (MaxPooling2D)  (None, 3, 3, 512)         0         \n",
            "                                                                 \n",
            " block5_conv1 (Conv2D)       (None, 3, 3, 512)         2359808   \n",
            "                                                                 \n",
            " block5_conv2 (Conv2D)       (None, 3, 3, 512)         2359808   \n",
            "                                                                 \n",
            " block5_conv3 (Conv2D)       (None, 3, 3, 512)         2359808   \n",
            "                                                                 \n",
            " block5_pool (MaxPooling2D)  (None, 1, 1, 512)         0         \n",
            "                                                                 \n",
            "=================================================================\n",
            "Total params: 14,714,688\n",
            "Trainable params: 14,714,688\n",
            "Non-trainable params: 0\n",
            "_________________________________________________________________\n"
          ]
        }
      ],
      "source": [
        "from tensorflow.keras.applications.vgg16 import VGG16\n",
        "from tensorflow.keras import Model\n",
        "\n",
        "vgg = VGG16(include_top = False, weights = 'imagenet', input_shape = (48, 48, 3))\n",
        "vgg.summary()"
      ]
    },
    {
      "cell_type": "markdown",
      "metadata": {
        "id": "X76HMyZX4edM"
      },
      "source": [
        "### **Model Building**\n",
        "\n",
        "* In this model, we will import till the **'block5_pool'** layer of the VGG16 model. You can scroll down in the model summary and look for 'block5_pool'. You can choose any other layer as well.\n",
        "* Then we will add a Flatten layer, which receives the output of the 'block5_pool' layer as its input.\n",
        "* We will add a few Dense layers and use 'relu' activation function on them.\n",
        "* You may use Dropout and BatchNormalization layers as well.\n",
        "* Then we will add our last dense layer, which must have 4 neurons and a 'softmax' activation function."
      ]
    },
    {
      "cell_type": "code",
      "execution_count": null,
      "metadata": {
        "id": "8b123bc6"
      },
      "outputs": [],
      "source": [
        "transfer_layer = vgg.get_layer('block5_pool')\n",
        "vgg.trainable = False\n",
        "\n",
        "# Add classification layers on top of it  \n",
        "\n",
        "# Flattenning the output from the 3rd block of the VGG16 model\n",
        "x = Flatten()(transfer_layer.output)\n",
        "\n",
        "# Add a Dense Layer with 64 neurons\n",
        "x = Dense(64, activation = 'relu')(x)\n",
        "\n",
        "# Adding the final dense layer with 4 neurons and use 'softmax' activation\n",
        "pred = Dense(4, activation='softmax')(x)\n",
        "\n",
        "vggmodel = Model(vgg.input, pred) # Initializing the model"
      ]
    },
    {
      "cell_type": "markdown",
      "metadata": {
        "id": "t6vK7u7w8GsM"
      },
      "source": [
        "### **Compiling and Training the VGG16 Model**"
      ]
    },
    {
      "cell_type": "code",
      "execution_count": null,
      "metadata": {
        "id": "86b249f1"
      },
      "outputs": [],
      "source": [
        "from keras.callbacks import ModelCheckpoint, EarlyStopping, ReduceLROnPlateau\n",
        "\n",
        "checkpoint = ModelCheckpoint(\"./vggmodel.h5\", monitor = 'val_loss', verbose = 1, save_best_only = True, mode = 'max')\n",
        "\n",
        "early_stopping = EarlyStopping(monitor = 'val_loss',\n",
        "                          min_delta = 0,\n",
        "                          patience = 3,\n",
        "                          verbose = 1,\n",
        "                          restore_best_weights = True\n",
        "                          )\n",
        "\n",
        "reduce_learningrate = ReduceLROnPlateau(monitor = 'val_loss',\n",
        "                              factor = 0.2,\n",
        "                              patience = 3,\n",
        "                              verbose = 1,\n",
        "                              min_delta = 0.0001)\n",
        "\n",
        "callbacks_list = [early_stopping, checkpoint, reduce_learningrate]\n",
        "\n",
        "epochs = 20"
      ]
    },
    {
      "cell_type": "code",
      "execution_count": null,
      "metadata": {
        "id": "0PN6ghMOGGgf"
      },
      "outputs": [],
      "source": [
        "# Write your code to compile the vggmodel. Use categorical crossentropy as the loss function, Adam Optimizer with 0.001 learning rate, and set metrics to 'accuracy'. \n",
        "vggmodel.compile(\n",
        "    loss = 'categorical_crossentropy', \n",
        "    optimizer = Adam(learning_rate = 0.01),\n",
        "    metrics = ['accuracy'])\n"
      ]
    },
    {
      "cell_type": "code",
      "execution_count": null,
      "metadata": {
        "id": "893285ee",
        "colab": {
          "base_uri": "https://localhost:8080/"
        },
        "outputId": "b13d8fe8-426a-4e74-dee7-3b0022630659"
      },
      "outputs": [
        {
          "output_type": "stream",
          "name": "stdout",
          "text": [
            "Epoch 1/5\n",
            "472/472 [==============================] - 522s 1s/step - loss: 1.2358 - accuracy: 0.4286 - val_loss: 1.1948 - val_accuracy: 0.4658\n",
            "Epoch 2/5\n",
            "472/472 [==============================] - 515s 1s/step - loss: 1.1847 - accuracy: 0.4615 - val_loss: 1.2008 - val_accuracy: 0.4479\n",
            "Epoch 3/5\n",
            "472/472 [==============================] - 519s 1s/step - loss: 1.1667 - accuracy: 0.4792 - val_loss: 1.1641 - val_accuracy: 0.4805\n",
            "Epoch 4/5\n",
            "472/472 [==============================] - 521s 1s/step - loss: 1.1567 - accuracy: 0.4838 - val_loss: 1.1994 - val_accuracy: 0.4598\n",
            "Epoch 5/5\n",
            "472/472 [==============================] - 520s 1s/step - loss: 1.1536 - accuracy: 0.4847 - val_loss: 1.1974 - val_accuracy: 0.4481\n"
          ]
        }
      ],
      "source": [
        "# Write your code to fit your model. Use train_set as the training data and validation_set as the validation data. Train the model for 20 epochs.\n",
        "history = vggmodel.fit(\n",
        "    train_set,\n",
        "    validation_data = validation_set,\n",
        "    epochs = 5)\n"
      ]
    },
    {
      "cell_type": "code",
      "source": [
        "# Save the model\n",
        "model_file_path = '/content/drive/MyDrive/Vggmodel_0.4_5_epochs.h5'\n",
        "keras.Model.save(vggmodel,model_file_path)"
      ],
      "metadata": {
        "id": "rWbkbWkBoJGm"
      },
      "execution_count": null,
      "outputs": []
    },
    {
      "cell_type": "code",
      "source": [
        "# Save the history to a file\n",
        "\n",
        "filepath = '/content/drive/MyDrive/'\n",
        "full_filepath = filepath + 'vgg_history_0.4_5_epochs.pkl'\n",
        "with open(full_filepath, 'wb') as f:\n",
        "    pickle.dump(history.history, f)"
      ],
      "metadata": {
        "id": "Lw40Edy2oUHu"
      },
      "execution_count": null,
      "outputs": []
    },
    {
      "cell_type": "code",
      "source": [
        "# Load the model\n",
        "model_file_path = '/content/drive/MyDrive/Vggmodel_0.4_5_epochs.h5'\n",
        "vggmodel = keras.models.load_model(model_file_path)"
      ],
      "metadata": {
        "id": "wt27gChGJIx2"
      },
      "execution_count": null,
      "outputs": []
    },
    {
      "cell_type": "code",
      "source": [
        "# Load the history from a file\n",
        "filepath = '/content/drive/MyDrive/'\n",
        "with open(filepath +'vgg_history_0.3_5_epochs.pkl', 'rb') as f:\n",
        "    history_dict = pickle.load(f)"
      ],
      "metadata": {
        "id": "7d0Ly-BIobHn"
      },
      "execution_count": null,
      "outputs": []
    },
    {
      "cell_type": "markdown",
      "metadata": {
        "id": "Un-19jPckK07"
      },
      "source": [
        "### **Evaluating the VGG16 model**"
      ]
    },
    {
      "cell_type": "code",
      "execution_count": null,
      "metadata": {
        "id": "t6Y_bSLCkcvr",
        "colab": {
          "base_uri": "https://localhost:8080/",
          "height": 295
        },
        "outputId": "966d5c52-ddc0-4479-e9c6-a1a1a6801a1c"
      },
      "outputs": [
        {
          "output_type": "display_data",
          "data": {
            "text/plain": [
              "<Figure size 432x288 with 1 Axes>"
            ],
            "image/png": "[encoded data removed]"
          },
          "metadata": {
            "needs_background": "light"
          }
        }
      ],
      "source": [
        "# Write your code to evaluate model performance on the test set\n",
        "plt.plot(history_dict['accuracy'])\n",
        "\n",
        "plt.plot(history_dict['val_accuracy'])\n",
        "\n",
        "plt.title('Model 2 Accuracy')\n",
        "\n",
        "plt.ylabel('Accuracy')\n",
        "\n",
        "plt.xlabel('Epoch')\n",
        "\n",
        "plt.legend(['Train', 'Validation'], loc = 'upper left')\n",
        "\n",
        "# Display the plot\n",
        "plt.show()"
      ]
    },
    {
      "cell_type": "code",
      "source": [
        "score = vggmodel.evaluate(test_set)"
      ],
      "metadata": {
        "colab": {
          "base_uri": "https://localhost:8080/"
        },
        "id": "73-7_kzuIjyw",
        "outputId": "1a8d3ec9-af66-4a31-d514-b1db43faba9c"
      },
      "execution_count": null,
      "outputs": [
        {
          "output_type": "stream",
          "name": "stdout",
          "text": [
            "4/4 [==============================] - 3s 711ms/step - loss: 1.1655 - accuracy: 0.4488\n"
          ]
        }
      ]
    },
    {
      "cell_type": "markdown",
      "metadata": {
        "id": "tW6kPSky59Gv"
      },
      "source": [
        "**Think About It:**\n",
        "\n",
        "- What do you infer from the general trend in the training performance? \n",
        "  - The model becomes overfit. The model does not accurately respond to the validation data, but the performance has improved with after having curated the dataset.\n",
        "- Is the training accuracy consistently improving? \n",
        "  - There is a general trend with respect to the accuracy improvement, however there are edges detected while the accuracy improves.\n",
        "- Is the validation accuracy also improving similarly?\n",
        "  - The validation accuracy is improving, but is much more variant."
      ]
    },
    {
      "cell_type": "markdown",
      "metadata": {
        "id": "YuTi6OAx8q_r"
      },
      "source": [
        "**Observations and Insights:  The model becomes overfit. The model does not accurately respond to the validation data, but the performance has improved with after having curated the dataset. There is a general trend with respect to the accuracy improvement, however there are edges detected while the accuracy improves. The validation accuracy is improving, but is much more variant. I believe there are images in the data that are causing this behavior.**"
      ]
    },
    {
      "cell_type": "markdown",
      "metadata": {
        "id": "AfC2Kx0v7Sa1"
      },
      "source": [
        "**Note: You can even go back and build your own architecture on top of the VGG16 Transfer layer and see if you can improve the performance**"
      ]
    },
    {
      "cell_type": "markdown",
      "metadata": {
        "id": "3htKZRdomiOY"
      },
      "source": [
        "**Observations and Insights: There is a bimodal distribution of the validation accuracy. The training accuracy does not improve & is very low.**\n",
        "\n",
        "**Note: You can even go back and build your own architecture on top of the ResNet Transfer layer and see if you can improve the performance.**"
      ]
    },
    {
      "cell_type": "markdown",
      "metadata": {
        "id": "FmnDG4ZbncoR"
      },
      "source": [
        "## **EfficientNet Model**"
      ]
    },
    {
      "cell_type": "code",
      "execution_count": null,
      "metadata": {
        "id": "613c7a71"
      },
      "outputs": [],
      "source": [
        "import tensorflow as tf\n",
        "import tensorflow.keras.applications as ap\n",
        "from tensorflow.keras import Model\n",
        "EfficientNet = ap.EfficientNetV2B2(include_top=False,weights=\"imagenet\", input_shape= (48, 48, 3))\n",
        "\n",
        "EfficientNet.summary()"
      ]
    },
    {
      "cell_type": "markdown",
      "metadata": {
        "id": "6kDNE8pVngqC"
      },
      "source": [
        "### **Model Building**\n",
        "\n",
        "**Build your own Architecture on top of the transfer layer. Be sure to have a Flatten layer after your transfer layer and also make sure you have 4 neurons and softmax activation function in your last dense layer**"
      ]
    },
    {
      "cell_type": "code",
      "execution_count": null,
      "metadata": {
        "id": "2b27a6e1"
      },
      "outputs": [],
      "source": [
        "\n",
        "\n",
        "transfer_layer_EfficientNet = EfficientNet.get_layer('block6e_expand_activation')\n",
        "EfficientNet.trainable = False\n",
        "\n",
        "# Add your Flatten layer.\n",
        "x = Flatten()(transfer_layer_EfficientNet.output)\n",
        "\n",
        "# Add your Dense layers and/or BatchNormalization and Dropout layers\n",
        "\n",
        "# Add a Dense layer with 256 neurons\n",
        "x = Dense(256, activation = 'relu')(x)\n",
        "\n",
        "# Add a Dense Layer with 128 neurons\n",
        "x = Dense(128, activation = 'relu')(x)\n",
        "\n",
        "# Add a DropOut layer with Drop out ratio of 0.3\n",
        "# x = Dropout(0.3)(x)\n",
        "\n",
        "# Add a Dense Layer with 64 neurons\n",
        "x = Dense(64, activation = 'relu')(x)\n",
        "\n",
        "# Add a Batch Normalization layer\n",
        "x = BatchNormalization()(x)\n",
        "\n",
        "# Add your final Dense layer with 4 neurons and softmax activation function.\n",
        "pred = Dense(4, activation = 'softmax')(x)\n",
        "\n",
        "Efficientnetmodel = Model(EfficientNet.input, pred)  # Initializing the model"
      ]
    },
    {
      "cell_type": "code",
      "source": [
        "efficient_net_activiation_layer = EfficientNet.get_layer('block6j_activation').output"
      ],
      "metadata": {
        "id": "yuKMh6geHqx4"
      },
      "execution_count": null,
      "outputs": []
    },
    {
      "cell_type": "code",
      "source": [
        "efficient_net_activiation_layer"
      ],
      "metadata": {
        "colab": {
          "base_uri": "https://localhost:8080/"
        },
        "id": "r85lzPXpHzH-",
        "outputId": "994bb40a-349d-4771-da78-520cae6b0a00"
      },
      "execution_count": null,
      "outputs": [
        {
          "output_type": "execute_result",
          "data": {
            "text/plain": [
              "<KerasTensor: shape=(None, 2, 2, 1248) dtype=float32 (created by layer 'block6j_activation')>"
            ]
          },
          "metadata": {},
          "execution_count": 16
        }
      ]
    },
    {
      "cell_type": "code",
      "source": [
        "from tensorflow.keras.layers import GlobalMaxPool2D"
      ],
      "metadata": {
        "id": "aIhcxgk1MwL4"
      },
      "execution_count": null,
      "outputs": []
    },
    {
      "cell_type": "code",
      "source": [
        "global_pool = GlobalMaxPool2D(name=\"global_pool\")(efficient_net_activiation_layer)"
      ],
      "metadata": {
        "id": "2IeehNvQMbIL"
      },
      "execution_count": null,
      "outputs": []
    },
    {
      "cell_type": "code",
      "source": [
        "output_layer = Dense(4, activation=\"softmax\", name=\"output_layer\")(global_pool)"
      ],
      "metadata": {
        "id": "EMetCf6qM00F"
      },
      "execution_count": null,
      "outputs": []
    },
    {
      "cell_type": "code",
      "source": [
        "efficientNetModel_v_0_1 = Model(inputs=EfficientNet.input, outputs = output_layer)"
      ],
      "metadata": {
        "id": "GkB9gsoXNKat"
      },
      "execution_count": null,
      "outputs": []
    },
    {
      "cell_type": "code",
      "source": [
        "# arbitrarily selecting the first 14 layers to be non-trainable\n",
        "for layer in efficientNetModel_v_0_1.layers[:15]:\n",
        "  layer.trainable = False"
      ],
      "metadata": {
        "id": "rh6HC_aZNzUA"
      },
      "execution_count": null,
      "outputs": []
    },
    {
      "cell_type": "markdown",
      "metadata": {
        "id": "hVv4Df_In32Y"
      },
      "source": [
        "### **Compiling and Training the Model**"
      ]
    },
    {
      "cell_type": "code",
      "execution_count": null,
      "metadata": {
        "id": "dc326cd3"
      },
      "outputs": [],
      "source": [
        "from keras.callbacks import ModelCheckpoint, EarlyStopping, ReduceLROnPlateau\n",
        "\n",
        "checkpoint = ModelCheckpoint(\"./Efficientnetmodel.h5\", monitor='val_acc', verbose=1, save_best_only=True, mode='max')\n",
        "\n",
        "early_stopping = EarlyStopping(monitor = 'val_accuracy',\n",
        "                               min_delta = 0.00008,\n",
        "                               patience = 3,\n",
        "                               verbose = 1,\n",
        "                               restore_best_weights = True\n",
        "                               )  # Write your code here. You may play around with the hyperparameters if you wish.\n",
        "\n",
        "\n",
        "reduce_learningrate = ReduceLROnPlateau(monitor = 'val_accuracy',\n",
        "                                        factor = 0.25,\n",
        "                                        patience = 4,\n",
        "                                        verbose = 1,\n",
        "                                        min_delta = 0.0001,\n",
        "                                        min_lr = 1e-07\n",
        "                                        ) # Write your code here. You may play around with the hyperparameters if you wish.\n",
        "callbacks_list = [early_stopping,checkpoint,reduce_learningrate]\n",
        "\n",
        "epochs = 40"
      ]
    },
    {
      "cell_type": "code",
      "execution_count": null,
      "metadata": {
        "id": "U13gspW8I-e3"
      },
      "outputs": [],
      "source": [
        "# Write your code to compile your Efficientnetmodel. Use categorical crossentropy as your loss function, Adam Optimizer with 0.001 learning rate, and set your metrics to 'accuracy'.\n",
        "\n",
        "efficientNetModel_v_0_1.compile(\n",
        "    loss = 'categorical_crossentropy', \n",
        "    optimizer = Adam(learning_rate = 0.001),\n",
        "    metrics = ['accuracy'])"
      ]
    },
    {
      "cell_type": "code",
      "execution_count": null,
      "metadata": {
        "id": "Doy0fkOwIew_",
        "colab": {
          "base_uri": "https://localhost:8080/"
        },
        "outputId": "801b209c-8428-4468-a14f-acc145653a34"
      },
      "outputs": [
        {
          "output_type": "stream",
          "name": "stdout",
          "text": [
            "Epoch 1/40\n",
            "472/472 [==============================] - ETA: 0s - loss: 1.5496 - accuracy: 0.2537"
          ]
        },
        {
          "output_type": "stream",
          "name": "stderr",
          "text": [
            "WARNING:tensorflow:Can save best model only with val_acc available, skipping.\n"
          ]
        },
        {
          "output_type": "stream",
          "name": "stdout",
          "text": [
            "\b\b\b\b\b\b\b\b\b\b\b\b\b\b\b\b\b\b\b\b\b\b\b\b\b\b\b\b\b\b\b\b\b\b\b\b\b\b\b\b\b\b\b\b\b\b\b\b\b\b\b\b\b\b\b\b\b\b\b\b\b\b\b\b\b\b\b\b\b\b\b\b\b\b\b\b\b\b\b\b\b\b\b\b\r472/472 [==============================] - 166s 326ms/step - loss: 1.5496 - accuracy: 0.2537 - val_loss: 1.4775 - val_accuracy: 0.2443 - lr: 0.0100\n",
            "Epoch 2/40\n",
            "472/472 [==============================] - ETA: 0s - loss: 1.5382 - accuracy: 0.2458"
          ]
        },
        {
          "output_type": "stream",
          "name": "stderr",
          "text": [
            "WARNING:tensorflow:Can save best model only with val_acc available, skipping.\n"
          ]
        },
        {
          "output_type": "stream",
          "name": "stdout",
          "text": [
            "\b\b\b\b\b\b\b\b\b\b\b\b\b\b\b\b\b\b\b\b\b\b\b\b\b\b\b\b\b\b\b\b\b\b\b\b\b\b\b\b\b\b\b\b\b\b\b\b\b\b\b\b\b\b\b\b\b\b\b\b\b\b\b\b\b\b\b\b\b\b\b\b\b\b\b\b\b\b\b\b\b\b\b\b\r472/472 [==============================] - 147s 311ms/step - loss: 1.5382 - accuracy: 0.2458 - val_loss: 1.4146 - val_accuracy: 0.3670 - lr: 0.0100\n",
            "Epoch 3/40\n",
            "472/472 [==============================] - ETA: 0s - loss: 1.5294 - accuracy: 0.2584"
          ]
        },
        {
          "output_type": "stream",
          "name": "stderr",
          "text": [
            "WARNING:tensorflow:Can save best model only with val_acc available, skipping.\n"
          ]
        },
        {
          "output_type": "stream",
          "name": "stdout",
          "text": [
            "\b\b\b\b\b\b\b\b\b\b\b\b\b\b\b\b\b\b\b\b\b\b\b\b\b\b\b\b\b\b\b\b\b\b\b\b\b\b\b\b\b\b\b\b\b\b\b\b\b\b\b\b\b\b\b\b\b\b\b\b\b\b\b\b\b\b\b\b\b\b\b\b\b\b\b\b\b\b\b\b\b\b\b\b\r472/472 [==============================] - 148s 314ms/step - loss: 1.5294 - accuracy: 0.2584 - val_loss: 1.6100 - val_accuracy: 0.2300 - lr: 0.0100\n",
            "Epoch 4/40\n",
            "472/472 [==============================] - ETA: 0s - loss: 1.5425 - accuracy: 0.2517"
          ]
        },
        {
          "output_type": "stream",
          "name": "stderr",
          "text": [
            "WARNING:tensorflow:Can save best model only with val_acc available, skipping.\n"
          ]
        },
        {
          "output_type": "stream",
          "name": "stdout",
          "text": [
            "\b\b\b\b\b\b\b\b\b\b\b\b\b\b\b\b\b\b\b\b\b\b\b\b\b\b\b\b\b\b\b\b\b\b\b\b\b\b\b\b\b\b\b\b\b\b\b\b\b\b\b\b\b\b\b\b\b\b\b\b\b\b\b\b\b\b\b\b\b\b\b\b\b\b\b\b\b\b\b\b\b\b\b\b\r472/472 [==============================] - 158s 335ms/step - loss: 1.5425 - accuracy: 0.2517 - val_loss: 1.4007 - val_accuracy: 0.3670 - lr: 0.0100\n",
            "Epoch 5/40\n",
            "472/472 [==============================] - ETA: 0s - loss: 1.5291 - accuracy: 0.2593Restoring model weights from the end of the best epoch: 2.\n"
          ]
        },
        {
          "output_type": "stream",
          "name": "stderr",
          "text": [
            "WARNING:tensorflow:Can save best model only with val_acc available, skipping.\n"
          ]
        },
        {
          "output_type": "stream",
          "name": "stdout",
          "text": [
            "\b\b\b\b\b\b\b\b\b\b\b\b\b\b\b\b\b\b\b\b\b\b\b\b\b\b\b\b\b\b\b\b\b\b\b\b\b\b\b\b\b\b\b\b\b\b\b\b\b\b\b\b\b\b\b\b\b\b\b\b\b\b\b\b\b\b\b\b\b\b\b\b\b\b\b\b\b\b\b\b\b\b\b\b\r472/472 [==============================] - 152s 323ms/step - loss: 1.5291 - accuracy: 0.2593 - val_loss: 1.9995 - val_accuracy: 0.1600 - lr: 0.0100\n",
            "Epoch 5: early stopping\n"
          ]
        }
      ],
      "source": [
        "# Write your code to fit your model. Use train_set as your training data and validation_set as your validation data. Train your model for 20 epochs.\n",
        "history = efficientNetModel_v_0_1.fit(    \n",
        "    train_set,\n",
        "    validation_data = validation_set,\n",
        "    callbacks = callbacks_list,\n",
        "    use_multiprocessing=True,\n",
        "    epochs = epochs)"
      ]
    },
    {
      "cell_type": "code",
      "source": [
        "model_file_path = '/content/drive/MyDrive/efficientNetModel_v_0_1.h5'\n",
        "filepath = '/content/drive/MyDrive/'"
      ],
      "metadata": {
        "id": "rn5OfwQpHBfQ"
      },
      "execution_count": null,
      "outputs": []
    },
    {
      "cell_type": "code",
      "source": [
        "# Save the model\n",
        "model_file_path = '/content/drive/MyDrive/efficientNetModel_v_0_2.h5'\n",
        "tf.keras.Model.save(efficientNetModel_v_0_1,model_file_path)\n",
        "\n",
        "# Save the history to a file\n",
        "import pickle\n",
        "filepath = '/content/drive/MyDrive/'\n",
        "full_filepath = filepath + 'efficientNetModel_v_0_2_history.pkl'\n",
        "with open(full_filepath, 'wb') as f:\n",
        "    pickle.dump(history.history, f)\n"
      ],
      "metadata": {
        "id": "Jd5kI4bUqMT_"
      },
      "execution_count": null,
      "outputs": []
    },
    {
      "cell_type": "code",
      "source": [
        "# Load the model\n",
        "# x = tf.keras.models.load_model(model_file_path)"
      ],
      "metadata": {
        "id": "Z8Nao5l6sDCV"
      },
      "execution_count": null,
      "outputs": []
    },
    {
      "cell_type": "code",
      "source": [
        "# Load the history from a file\n",
        "with open(filepath +'efficientNetModel_v_0_1_history.pkl', 'rb') as f:\n",
        "    history_dict = pickle.load(f)"
      ],
      "metadata": {
        "id": "_2hrc6XVsE88"
      },
      "execution_count": null,
      "outputs": []
    },
    {
      "cell_type": "markdown",
      "metadata": {
        "id": "2xjrzYpgoQnN"
      },
      "source": [
        "### **Evaluating the EfficientnetNet Model**"
      ]
    },
    {
      "cell_type": "code",
      "execution_count": null,
      "metadata": {
        "id": "WJVFenvnoQnN",
        "colab": {
          "base_uri": "https://localhost:8080/",
          "height": 295
        },
        "outputId": "2f802bf5-0a2a-4537-e461-6000e027557c"
      },
      "outputs": [
        {
          "output_type": "display_data",
          "data": {
            "text/plain": [
              "<Figure size 432x288 with 1 Axes>"
            ],
            "image/png": "[encoded data removed]"
          },
          "metadata": {
            "needs_background": "light"
          }
        }
      ],
      "source": [
        "# Write your code to evaluate the model performance on the test set\n",
        "\n",
        "plt.plot(history_dict['accuracy'])\n",
        "\n",
        "plt.plot(history_dict['val_accuracy'])\n",
        "\n",
        "plt.title('Model Accuracy')\n",
        "\n",
        "plt.ylabel('Accuracy')\n",
        "\n",
        "plt.xlabel('Epoch')\n",
        "\n",
        "plt.legend(['Train', 'Validation'], loc = 'upper left')\n",
        "\n",
        "# Display the plot\n",
        "plt.show()"
      ]
    },
    {
      "cell_type": "markdown",
      "metadata": {
        "id": "kWlk14FOoQnN"
      },
      "source": [
        "**Observations and Insights: The model accuracy is over twice as large as the initial 26% accuracy.**\n"
      ]
    },
    {
      "cell_type": "markdown",
      "metadata": {
        "id": "fk6QAcv5odNF"
      },
      "source": [
        "**Think About It:**\n",
        "\n",
        "* What is your overall performance of these Transfer Learning Architectures? Can we draw a comparison of these models' performances. Are we satisfied with the accuracies that we have received?\n",
        "* Do you think our issue lies with 'rgb' color_mode?"
      ]
    },
    {
      "cell_type": "markdown",
      "metadata": {
        "id": "-EH3atQP8q_v"
      },
      "source": [
        "Now that we have tried multiple pre-trained models, let's build a complex CNN architecture and see if we can get better performance."
      ]
    },
    {
      "cell_type": "markdown",
      "metadata": {
        "id": "SjKlBaZDpWoV"
      },
      "source": [
        "## **Building a Complex Neural Network Architecture**"
      ]
    },
    {
      "cell_type": "markdown",
      "metadata": {
        "id": "-bMFUj3Fpe75"
      },
      "source": [
        "In this section, we will build a more complex Convolutional Neural Network Model that has close to as many parameters as we had in our Transfer Learning Models. However, we will have only 1 input channel for our input images."
      ]
    },
    {
      "cell_type": "markdown",
      "metadata": {
        "id": "ejGfyYSbtx-F"
      },
      "source": [
        "## **Creating our Data Loaders**\n",
        "\n",
        "In this section, we are creating data loaders which we will use as inputs to the more Complicated Convolutional Neural Network. We will go ahead with color_mode = 'grayscale'."
      ]
    },
    {
      "cell_type": "code",
      "execution_count": null,
      "metadata": {
        "id": "xj1hM5_ttx-F",
        "colab": {
          "base_uri": "https://localhost:8080/"
        },
        "outputId": "13da3350-d740-43fa-fb6d-ed81a3a50979"
      },
      "outputs": [
        {
          "output_type": "stream",
          "name": "stdout",
          "text": [
            "Found 15085 images belonging to 4 classes.\n",
            "Found 4970 images belonging to 4 classes.\n",
            "Found 127 images belonging to 4 classes.\n"
          ]
        }
      ],
      "source": [
        "batch_size  = 32\n",
        "img_size = 48\n",
        "\n",
        "datagen_train = ImageDataGenerator(horizontal_flip = True,\n",
        "                                    brightness_range = (0., 2.),\n",
        "                                    rescale = 1./255,\n",
        "                                    shear_range = 0.3)\n",
        "\n",
        "train_set = datagen_train.flow_from_directory(folder_path + \"train\",\n",
        "                                              target_size = (img_size, img_size),\n",
        "                                              color_mode = 'grayscale',\n",
        "                                              batch_size = batch_size,\n",
        "                                              class_mode = 'categorical',\n",
        "                                              classes = ['happy', 'sad', 'neutral', 'surprise'],\n",
        "                                              shuffle = True)\n",
        "\n",
        "datagen_validation = ImageDataGenerator(horizontal_flip = True,\n",
        "                                    brightness_range = (0., 2.),\n",
        "                                    rescale = 1./255,\n",
        "                                    shear_range = 0.3)\n",
        "\n",
        "validation_set = datagen_train.flow_from_directory(folder_path + \"validation\",\n",
        "                                              target_size = (img_size, img_size),\n",
        "                                              color_mode = 'grayscale',\n",
        "                                              batch_size = batch_size,\n",
        "                                              class_mode = 'categorical',\n",
        "                                              classes = ['happy', 'sad', 'neutral', 'surprise'],\n",
        "                                              shuffle = True)\n",
        "\n",
        "datagen_test = ImageDataGenerator(horizontal_flip = True,\n",
        "                                    brightness_range = (0., 2.),\n",
        "                                    rescale = 1./255,\n",
        "                                    shear_range = 0.3)\n",
        "\n",
        "test_set = datagen_train.flow_from_directory(folder_path + \"test\",\n",
        "                                              target_size = (img_size, img_size),\n",
        "                                              color_mode = 'grayscale',\n",
        "                                              batch_size = batch_size,\n",
        "                                              class_mode = 'categorical',\n",
        "                                              classes = ['happy', 'sad', 'neutral', 'surprise'],\n",
        "                                              shuffle = True)"
      ]
    },
    {
      "cell_type": "markdown",
      "metadata": {
        "id": "Ft5U6f1Wie2R"
      },
      "source": [
        "### **Model Building**\n",
        "\n",
        "* In this network, we plan to have 5 Convolutional Blocks\n",
        "* Add first Conv2D layer with **64 filters** and a **kernel size of 2**. Use the 'same' padding and provide the **input shape = (48, 48, 1)**. Use **'relu' activation**.\n",
        "* Add your BatchNormalization layer followed by a LeakyRelU layer with Leaky ReLU parameter of **0.1**\n",
        "* Add MaxPooling2D layer with **pool size = 2**.\n",
        "* Add a Dropout layer with a Dropout Ratio of **0.2**. This completes the first Convolutional block.\n",
        "* Add a second Conv2D layer with **128 filters** and a **kernel size of 2**. Use the **'same' padding** and **'relu' activation.**\n",
        "* Follow this up with a similar BatchNormalization, LeakyRelU, Maxpooling2D, and Dropout layer like above to complete your second Convolutional Block.\n",
        "* Add a third Conv2D layer with **512 filters** and a **kernel size of 2**. Use the **'same' padding** and **'relu' activation.** Once again, follow it up with a BatchNormalization, LeakyRelU, Maxpooling2D, and Dropout layer to complete your third Convolutional block.\n",
        "* Add a fourth block, with the Conv2D layer having **512 filters**.\n",
        "* Add the fifth block, having **128 filters**.\n",
        "* Then add your Flatten layer, followed by your Dense layers.\n",
        "* Add your first Dense layer with **256 neurons** followed by a BatchNormalization layer, a **'relu'** Activation, and a Dropout layer. This forms your first Fully Connected block\n",
        "* Add your second Dense layer with **512 neurons**, again followed by a BatchNormalization layer, **relu** activation, and a Dropout layer.\n",
        "* Add your final Dense layer with 4 neurons.\n",
        "* Compile your model with the optimizer of your choice."
      ]
    },
    {
      "cell_type": "code",
      "execution_count": null,
      "metadata": {
        "id": "37f9194d"
      },
      "outputs": [],
      "source": [
        "no_of_classes = 4\n",
        "\n",
        "model3 = Sequential()\n",
        "\n",
        "# Add 1st CNN Block\n",
        "model3.add(Conv2D(64, kernel_size=2, padding='same',input_shape=(48,48,1), activation='relu'))\n",
        "model3.add(BatchNormalization())\n",
        "model3.add(LeakyReLU(0.1))\n",
        "model3.add(MaxPooling2D(pool_size=2))\n",
        "model3.add(Dropout(0.2))\n",
        "\n",
        "# Add 2nd CNN Block\n",
        "model3.add(Conv2D(128, kernel_size=2, padding='same', activation='relu'))\n",
        "model3.add(BatchNormalization())\n",
        "model3.add(LeakyReLU(0.1))\n",
        "model3.add(MaxPooling2D(pool_size=2))\n",
        "model3.add(Dropout(0.2))\n",
        "# Add 3rd CNN Block\n",
        "model3.add(Conv2D(512, kernel_size=2, padding='same', activation='relu'))\n",
        "model3.add(BatchNormalization())\n",
        "model3.add(LeakyReLU(0.1))\n",
        "model3.add(MaxPooling2D(pool_size=2))\n",
        "model3.add(Dropout(0.2))\n",
        "\n",
        "# Add 4th CNN Block\n",
        "model3.add(Conv2D(512, kernel_size=2, padding='same', activation='relu'))\n",
        "\n",
        "# Add 5th CNN Block\n",
        "model3.add(Conv2D(128, kernel_size=2, padding='same', activation='relu'))\n",
        "\n",
        "model3.add(Flatten())\n",
        "\n",
        "# First fully connected layer\n",
        "model3.add(Dense(256, activation='relu'))\n",
        "model3.add(BatchNormalization())\n",
        "model3.add(Dropout(0.2))\n",
        "\n",
        "# Second fully connected layer\n",
        "model3.add(Dense(no_of_classes, activation = 'softmax'))"
      ]
    },
    {
      "cell_type": "markdown",
      "metadata": {
        "id": "fyc0B--hwTHS"
      },
      "source": [
        "### **Compiling and Training the Model**"
      ]
    },
    {
      "cell_type": "code",
      "execution_count": null,
      "metadata": {
        "id": "0edabf52"
      },
      "outputs": [],
      "source": [
        "from keras.callbacks import ModelCheckpoint, ReduceLROnPlateau, CSVLogger\n",
        "\n",
        "epochs = 10\n",
        "\n",
        "steps_per_epoch = train_set.n//train_set.batch_size\n",
        "validation_steps = validation_set.n//validation_set.batch_size\n",
        "\n",
        "checkpoint = ModelCheckpoint(\"model3.h5\", monitor = 'val_accuracy',\n",
        "                            save_weights_only = True, model = 'max', verbose = 1)\n",
        "\n",
        "reduce_lr = ReduceLROnPlateau(monitor = 'val_loss', factor = 0.1, patience = 2, min_lr = 0.0001 , model = 'auto')\n",
        "\n",
        "callbacks = [checkpoint, reduce_lr]"
      ]
    },
    {
      "cell_type": "code",
      "execution_count": null,
      "metadata": {
        "id": "IYDJwZWmKSK6"
      },
      "outputs": [],
      "source": [
        "# Write your code to compile your model3. Use categorical crossentropy as the loss function, Adam Optimizer with 0.003 learning rate, and set metrics to 'accuracy'.\n",
        "model3.compile(\n",
        "    loss = \"categorical_crossentropy\",\n",
        "    optimizer = Adam(0.003),\n",
        "    metrics = [\"accuracy\"],\n",
        ")"
      ]
    },
    {
      "cell_type": "code",
      "execution_count": null,
      "metadata": {
        "id": "_tB9HX5sKjUL",
        "colab": {
          "base_uri": "https://localhost:8080/"
        },
        "outputId": "72436e61-4b58-466c-a0ae-4a0470230ed0"
      },
      "outputs": [
        {
          "output_type": "stream",
          "name": "stdout",
          "text": [
            "Epoch 1/10\n",
            "472/472 [==============================] - ETA: 0s - loss: 1.3512 - accuracy: 0.3602\n",
            "Epoch 1: saving model to model3.h5\n",
            "472/472 [==============================] - 437s 923ms/step - loss: 1.3512 - accuracy: 0.3602 - val_loss: 1.5574 - val_accuracy: 0.2441 - lr: 0.0030\n",
            "Epoch 2/10\n",
            "472/472 [==============================] - ETA: 0s - loss: 1.1500 - accuracy: 0.4884\n",
            "Epoch 2: saving model to model3.h5\n",
            "472/472 [==============================] - 507s 1s/step - loss: 1.1500 - accuracy: 0.4884 - val_loss: 1.1422 - val_accuracy: 0.4803 - lr: 0.0030\n",
            "Epoch 3/10\n",
            "472/472 [==============================] - ETA: 0s - loss: 1.1208 - accuracy: 0.4993\n",
            "Epoch 3: saving model to model3.h5\n",
            "472/472 [==============================] - 492s 1s/step - loss: 1.1208 - accuracy: 0.4993 - val_loss: 1.0955 - val_accuracy: 0.4803 - lr: 0.0030\n",
            "Epoch 4/10\n",
            "472/472 [==============================] - ETA: 0s - loss: 1.0291 - accuracy: 0.5488\n",
            "Epoch 4: saving model to model3.h5\n",
            "472/472 [==============================] - 456s 965ms/step - loss: 1.0291 - accuracy: 0.5488 - val_loss: 0.9523 - val_accuracy: 0.5827 - lr: 0.0030\n",
            "Epoch 5/10\n",
            "472/472 [==============================] - ETA: 0s - loss: 0.9789 - accuracy: 0.5747\n",
            "Epoch 5: saving model to model3.h5\n",
            "472/472 [==============================] - 438s 928ms/step - loss: 0.9789 - accuracy: 0.5747 - val_loss: 0.9735 - val_accuracy: 0.5984 - lr: 0.0030\n",
            "Epoch 6/10\n",
            "472/472 [==============================] - ETA: 0s - loss: 0.9315 - accuracy: 0.5994\n",
            "Epoch 6: saving model to model3.h5\n",
            "472/472 [==============================] - 441s 934ms/step - loss: 0.9315 - accuracy: 0.5994 - val_loss: 0.9363 - val_accuracy: 0.5669 - lr: 0.0030\n",
            "Epoch 7/10\n",
            "472/472 [==============================] - ETA: 0s - loss: 0.9041 - accuracy: 0.6129\n",
            "Epoch 7: saving model to model3.h5\n",
            "472/472 [==============================] - 441s 935ms/step - loss: 0.9041 - accuracy: 0.6129 - val_loss: 0.9765 - val_accuracy: 0.5591 - lr: 0.0030\n",
            "Epoch 8/10\n",
            "472/472 [==============================] - ETA: 0s - loss: 0.9169 - accuracy: 0.6058\n",
            "Epoch 8: saving model to model3.h5\n",
            "472/472 [==============================] - 440s 932ms/step - loss: 0.9169 - accuracy: 0.6058 - val_loss: 1.2159 - val_accuracy: 0.5118 - lr: 0.0030\n",
            "Epoch 9/10\n",
            "472/472 [==============================] - ETA: 0s - loss: 0.8523 - accuracy: 0.6463\n",
            "Epoch 9: saving model to model3.h5\n",
            "472/472 [==============================] - 458s 971ms/step - loss: 0.8523 - accuracy: 0.6463 - val_loss: 0.8344 - val_accuracy: 0.6142 - lr: 3.0000e-04\n",
            "Epoch 10/10\n",
            "472/472 [==============================] - ETA: 0s - loss: 0.8217 - accuracy: 0.6557\n",
            "Epoch 10: saving model to model3.h5\n",
            "472/472 [==============================] - 447s 946ms/step - loss: 0.8217 - accuracy: 0.6557 - val_loss: 0.7703 - val_accuracy: 0.6220 - lr: 3.0000e-04\n"
          ]
        }
      ],
      "source": [
        "# Write your code to fit your model. Use train_set as the training data and validation_set as the validation data. Train your model for 35 epochs.\n",
        "history = model3.fit(train_set, validation_data = test_set, callbacks=callbacks, epochs = epochs)"
      ]
    },
    {
      "cell_type": "code",
      "source": [
        "# Save and Load models and model fit history (template code)\n",
        "\n",
        "# Save the model\n",
        "model_file_path = '/content/drive/MyDrive/CNNmodel3.h5'\n",
        "tf.keras.Model.save(model3,model_file_path)\n",
        "\n",
        "# Save the history to a file\n",
        "import pickle\n",
        "filepath = '/content/drive/MyDrive/'\n",
        "full_filepath = filepath + 'CNNmodel3_history.pkl'\n",
        "with open(full_filepath, 'wb') as f:\n",
        "    pickle.dump(history.history, f)"
      ],
      "metadata": {
        "id": "tg_qXE-K0cJe"
      },
      "execution_count": null,
      "outputs": []
    },
    {
      "cell_type": "code",
      "source": [
        "# Load the model\n",
        "x = tf.keras.models.load_model(model_file_path)\n",
        "\n",
        "# Load the history from a file\n",
        "with open(filepath +'CNNmodel3_history.pkl', 'rb') as f:\n",
        "    history_dict = pickle.load(f)"
      ],
      "metadata": {
        "id": "UetCfLbv0fs4"
      },
      "execution_count": null,
      "outputs": []
    },
    {
      "cell_type": "code",
      "source": [
        "# Load\n",
        "model_name = 'efficientNetModel_v_0_1'\n",
        "history_name = 'efficientNetModel_v_0_1_history'\n",
        "model, history_dict = load_model_and_history(model_name, history_name)\n"
      ],
      "metadata": {
        "id": "W80pNEJfDlw8"
      },
      "execution_count": null,
      "outputs": []
    },
    {
      "cell_type": "markdown",
      "metadata": {
        "id": "BbAqrAQQVjIR"
      },
      "source": [
        "### **Evaluating the Model on Test Set**"
      ]
    },
    {
      "cell_type": "code",
      "execution_count": null,
      "metadata": {
        "id": "uO26AYRuVm7F"
      },
      "outputs": [],
      "source": [
        "# Write your code to evaluate the model performance on the test set\n",
        "plt.plot(history_dict['accuracy'])\n",
        "\n",
        "plt.plot(history_dict['val_accuracy'])\n",
        "\n",
        "plt.title('Model Accuracy')\n",
        "\n",
        "plt.ylabel('Accuracy')\n",
        "\n",
        "plt.xlabel('Epoch')\n",
        "\n",
        "plt.legend(['Train', 'Validation'], loc = 'upper left')\n",
        "\n",
        "# Display the plot\n",
        "plt.show()"
      ]
    },
    {
      "cell_type": "markdown",
      "metadata": {
        "id": "81uYGSmHwxfD"
      },
      "source": [
        "**Observations and Insights:The model is reaching higher accuracies however it appears that the model is overfit on the validation set at approximately 5 epochs. **"
      ]
    },
    {
      "cell_type": "markdown",
      "metadata": {
        "id": "GNWc6agwxJ_z"
      },
      "source": [
        "### **Plotting the Confusion Matrix for the chosen final model**"
      ]
    },
    {
      "cell_type": "code",
      "execution_count": null,
      "metadata": {
        "id": "SFTRyIk-yjoQ",
        "colab": {
          "base_uri": "https://localhost:8080/",
          "height": 370
        },
        "outputId": "9e40e325-2c34-4ea1-a857-cda9778a8b51"
      },
      "outputs": [
        {
          "output_type": "stream",
          "name": "stdout",
          "text": [
            "Found 127 images belonging to 4 classes.\n",
            "4/4 [==============================] - 1s 163ms/step\n"
          ]
        },
        {
          "output_type": "display_data",
          "data": {
            "text/plain": [
              "<Figure size 576x360 with 2 Axes>"
            ],
            "image/png": "[encoded data removed]"
          },
          "metadata": {
            "needs_background": "light"
          }
        }
      ],
      "source": [
        "# I have chosen to use the EfficientNet Model here.\n",
        "\n",
        "\n",
        "# Plot the confusion matrix and generate a classification report for the model\n",
        "from sklearn.metrics import classification_report\n",
        "from sklearn.metrics import confusion_matrix\n",
        "test_set = datagen_test.flow_from_directory(folder_path + \"test\",\n",
        "                                                              target_size = (img_size,img_size),\n",
        "                                                              color_mode = 'grayscale',\n",
        "                                                              batch_size = 128,\n",
        "                                                              class_mode = 'categorical',\n",
        "                                                              classes = ['happy', 'sad', 'neutral', 'surprise'],\n",
        "                                                              shuffle = True) \n",
        "test_images, test_labels = next(test_set)\n",
        "\n",
        "# Write the name of your chosen model in the blank\n",
        "pred = model.predict(test_images)\n",
        "pred = np.argmax(pred, axis = 1) \n",
        "y_true = np.argmax(test_labels, axis = 1)\n",
        "\n",
        "# Printing the classification report\n",
        "\n",
        "# Plotting the heatmap using confusion matrix\n",
        "cm = confusion_matrix(y_true, pred)\n",
        "plt.figure(figsize = (8, 5))\n",
        "sns.heatmap(cm, annot = True,  fmt = '.0f', xticklabels = ['happy', 'sad', 'neutral', 'surprise'], yticklabels = ['happy', 'sad', 'neutral', 'surprise'])\n",
        "plt.ylabel('Actual')\n",
        "plt.xlabel('Predicted')\n",
        "plt.show()"
      ]
    },
    {
      "cell_type": "markdown",
      "metadata": {
        "id": "LGgvpOrP8q_x"
      },
      "source": [
        "**Observations and Insights:There are not many false positives detected in the dataset.**"
      ]
    },
    {
      "cell_type": "markdown",
      "metadata": {
        "id": "6s_baiF_KllW"
      },
      "source": [
        "## **Conclusion: EfficientNet outperformed the other models after being appropriately trained.**"
      ]
    },
    {
      "cell_type": "markdown",
      "metadata": {
        "id": "MEZPA_mN0tUo"
      },
      "source": [
        "### **Insights**\n",
        "\n",
        "### **Refined insights**:\n",
        "- What are the most meaningful insights from the data relevant to the problem?\n",
        "  - It is important to explore and curate the dataset. \n",
        "  - There were a number of images that were corrupted in the data that were giving erroneous training & testing results.\n",
        "  - These corrupted images were typically below 1KB in file size which was below the normal file size.\n",
        "  - The images were typically at the head or the tail of the dataset.\n",
        "\n",
        "\n",
        "### **Comparison of various techniques and their relative performance**:\n",
        "- How do different techniques perform? Which one is performing relatively better? \n",
        "  - EfficientNet was best for the high performance and low computational cost.\n",
        "\n",
        "- Is there scope to improve the performance further?\n",
        "  - There is scope to improve the performance further by increasing the number of epochs and implementing the use of a GPU.\n"
      ]
    }
  ],
  "metadata": {
    "colab": {
      "provenance": [],
      "collapsed_sections": [
        "ThCSNrWC4HW0",
        "X76HMyZX4edM",
        "t6vK7u7w8GsM",
        "Un-19jPckK07",
        "E0Mew4Cc7u7k"
      ],
      "include_colab_link": true
    },
    "kernelspec": {
      "display_name": "Python 3 (ipykernel)",
      "language": "python",
      "name": "python3"
    },
    "language_info": {
      "codemirror_mode": {
        "name": "ipython",
        "version": 3
      },
      "file_extension": ".py",
      "mimetype": "text/x-python",
      "name": "python",
      "nbconvert_exporter": "python",
      "pygments_lexer": "ipython3",
      "version": "3.9.7"
    },
    "gpuClass": "standard"
  },
  "nbformat": 4,
  "nbformat_minor": 0
}